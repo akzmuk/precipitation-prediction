{
 "cells": [
  {
   "cell_type": "markdown",
   "id": "19be67cc-f0a9-4d7e-bbdb-c41424ace4d1",
   "metadata": {},
   "source": [
    "# Precipitation prediction"
   ]
  },
  {
   "cell_type": "markdown",
   "id": "40403007-c6ab-4268-a14d-c887113d1358",
   "metadata": {},
   "source": [
    "## Objective"
   ]
  },
  {
   "cell_type": "markdown",
   "id": "eb846224-864d-4793-820b-b0ea4b40cccd",
   "metadata": {},
   "source": [
    "The aim of this project is to develop a model that predicts rainfall probability based on parameters such as temperature, humidity, and average cloud cover etc."
   ]
  },
  {
   "cell_type": "markdown",
   "id": "cbc0f14e-5815-45bc-8a59-b7141b969060",
   "metadata": {
    "tags": []
   },
   "source": [
    "## About the dataset"
   ]
  },
  {
   "cell_type": "markdown",
   "id": "87fc7010-42e4-4350-87b8-9712d243b20b",
   "metadata": {},
   "source": [
    "Data source: [Meteoblue](https://www.meteoblue.com/en/weather/archive/export).\n",
    "\n",
    "It is a hystorical, meteorological data from city of Basel, Switzerland in the interval from 2008-01-02 to 2024-04-25.\n",
    "\n",
    "The dataset contains such columns as: date, maximum temperature, minimum temperature, mean temperature, precipitation total, snowfall amount, maximum relative humidity, minimum relative humidity, mean relative humidity, cloud cover total %."
   ]
  },
  {
   "cell_type": "markdown",
   "id": "4233e880-224c-4404-813f-5a30b50fadff",
   "metadata": {},
   "source": [
    "## Data examination"
   ]
  },
  {
   "cell_type": "markdown",
   "id": "1141b3a2-1648-4151-8f8a-396dcb44dc0d",
   "metadata": {},
   "source": [
    "Importing libraries"
   ]
  },
  {
   "cell_type": "code",
   "execution_count": 8,
   "id": "4f610a4e-12eb-4b1b-8cf9-bf6ff3eef425",
   "metadata": {
    "tags": []
   },
   "outputs": [],
   "source": [
    "import numpy as np\n",
    "import pandas as pd\n",
    "import seaborn as sns\n",
    "import matplotlib.pyplot as plt"
   ]
  },
  {
   "cell_type": "markdown",
   "id": "2b76e97b-6a73-44e4-80bd-15e658bd58ff",
   "metadata": {},
   "source": [
    "Loading dataset"
   ]
  },
  {
   "cell_type": "code",
   "execution_count": 10,
   "id": "c46ec9f2-0b2f-46a6-9f31-95f1261627c8",
   "metadata": {
    "tags": []
   },
   "outputs": [
    {
     "data": {
      "text/html": [
       "<div>\n",
       "<style scoped>\n",
       "    .dataframe tbody tr th:only-of-type {\n",
       "        vertical-align: middle;\n",
       "    }\n",
       "\n",
       "    .dataframe tbody tr th {\n",
       "        vertical-align: top;\n",
       "    }\n",
       "\n",
       "    .dataframe thead th {\n",
       "        text-align: right;\n",
       "    }\n",
       "</style>\n",
       "<table border=\"1\" class=\"dataframe\">\n",
       "  <thead>\n",
       "    <tr style=\"text-align: right;\">\n",
       "      <th></th>\n",
       "      <th>location</th>\n",
       "      <th>Basel</th>\n",
       "      <th>Basel.1</th>\n",
       "      <th>Basel.2</th>\n",
       "      <th>Basel.3</th>\n",
       "      <th>Basel.4</th>\n",
       "      <th>Basel.5</th>\n",
       "      <th>Basel.6</th>\n",
       "      <th>Basel.7</th>\n",
       "      <th>Basel.8</th>\n",
       "    </tr>\n",
       "  </thead>\n",
       "  <tbody>\n",
       "    <tr>\n",
       "      <th>0</th>\n",
       "      <td>lat</td>\n",
       "      <td>47.54694</td>\n",
       "      <td>47.54694</td>\n",
       "      <td>47.54694</td>\n",
       "      <td>47.54694</td>\n",
       "      <td>47.54694</td>\n",
       "      <td>47.54694</td>\n",
       "      <td>47.54694</td>\n",
       "      <td>47.54694</td>\n",
       "      <td>47.54694</td>\n",
       "    </tr>\n",
       "    <tr>\n",
       "      <th>1</th>\n",
       "      <td>lon</td>\n",
       "      <td>7.56892</td>\n",
       "      <td>7.56892</td>\n",
       "      <td>7.56892</td>\n",
       "      <td>7.56892</td>\n",
       "      <td>7.56892</td>\n",
       "      <td>7.56892</td>\n",
       "      <td>7.56892</td>\n",
       "      <td>7.56892</td>\n",
       "      <td>7.56892</td>\n",
       "    </tr>\n",
       "    <tr>\n",
       "      <th>2</th>\n",
       "      <td>asl</td>\n",
       "      <td>283.697</td>\n",
       "      <td>283.697</td>\n",
       "      <td>283.697</td>\n",
       "      <td>283.697</td>\n",
       "      <td>283.697</td>\n",
       "      <td>283.697</td>\n",
       "      <td>283.697</td>\n",
       "      <td>283.697</td>\n",
       "      <td>283.697</td>\n",
       "    </tr>\n",
       "    <tr>\n",
       "      <th>3</th>\n",
       "      <td>variable</td>\n",
       "      <td>Temperature</td>\n",
       "      <td>Temperature</td>\n",
       "      <td>Temperature</td>\n",
       "      <td>Precipitation Total</td>\n",
       "      <td>Snowfall Amount</td>\n",
       "      <td>Relative Humidity</td>\n",
       "      <td>Relative Humidity</td>\n",
       "      <td>Relative Humidity</td>\n",
       "      <td>Cloud Cover Total</td>\n",
       "    </tr>\n",
       "    <tr>\n",
       "      <th>4</th>\n",
       "      <td>unit</td>\n",
       "      <td>°C</td>\n",
       "      <td>°C</td>\n",
       "      <td>°C</td>\n",
       "      <td>mm</td>\n",
       "      <td>cm</td>\n",
       "      <td>%</td>\n",
       "      <td>%</td>\n",
       "      <td>%</td>\n",
       "      <td>%</td>\n",
       "    </tr>\n",
       "    <tr>\n",
       "      <th>...</th>\n",
       "      <td>...</td>\n",
       "      <td>...</td>\n",
       "      <td>...</td>\n",
       "      <td>...</td>\n",
       "      <td>...</td>\n",
       "      <td>...</td>\n",
       "      <td>...</td>\n",
       "      <td>...</td>\n",
       "      <td>...</td>\n",
       "      <td>...</td>\n",
       "    </tr>\n",
       "    <tr>\n",
       "      <th>14364</th>\n",
       "      <td>20240421T0000</td>\n",
       "      <td>6.8705287</td>\n",
       "      <td>3.0505285</td>\n",
       "      <td>4.8351116</td>\n",
       "      <td>4.5</td>\n",
       "      <td>1.61</td>\n",
       "      <td>88.0</td>\n",
       "      <td>55.0</td>\n",
       "      <td>72.291664</td>\n",
       "      <td>73.5</td>\n",
       "    </tr>\n",
       "    <tr>\n",
       "      <th>14365</th>\n",
       "      <td>20240422T0000</td>\n",
       "      <td>9.830529</td>\n",
       "      <td>1.3405286</td>\n",
       "      <td>5.3867784</td>\n",
       "      <td>0.4</td>\n",
       "      <td>0.0</td>\n",
       "      <td>93.0</td>\n",
       "      <td>41.0</td>\n",
       "      <td>66.291664</td>\n",
       "      <td>87.875</td>\n",
       "    </tr>\n",
       "    <tr>\n",
       "      <th>14366</th>\n",
       "      <td>20240423T0000</td>\n",
       "      <td>9.880529</td>\n",
       "      <td>0.50052863</td>\n",
       "      <td>5.9226117</td>\n",
       "      <td>0.0</td>\n",
       "      <td>0.0</td>\n",
       "      <td>87.0</td>\n",
       "      <td>44.0</td>\n",
       "      <td>60.833332</td>\n",
       "      <td>89.333336</td>\n",
       "    </tr>\n",
       "    <tr>\n",
       "      <th>14367</th>\n",
       "      <td>20240424T0000</td>\n",
       "      <td>9.240529</td>\n",
       "      <td>-0.18947133</td>\n",
       "      <td>5.6846957</td>\n",
       "      <td>0.2</td>\n",
       "      <td>0.0</td>\n",
       "      <td>75.0</td>\n",
       "      <td>50.0</td>\n",
       "      <td>62.791668</td>\n",
       "      <td>67.458336</td>\n",
       "    </tr>\n",
       "    <tr>\n",
       "      <th>14368</th>\n",
       "      <td>20240425T0000</td>\n",
       "      <td>11.600529</td>\n",
       "      <td>1.7305287</td>\n",
       "      <td>7.4909453</td>\n",
       "      <td>0.0</td>\n",
       "      <td>0.0</td>\n",
       "      <td>81.0</td>\n",
       "      <td>41.0</td>\n",
       "      <td>60.166668</td>\n",
       "      <td>44.416668</td>\n",
       "    </tr>\n",
       "  </tbody>\n",
       "</table>\n",
       "<p>14369 rows × 10 columns</p>\n",
       "</div>"
      ],
      "text/plain": [
       "            location        Basel      Basel.1      Basel.2  \\\n",
       "0                lat     47.54694     47.54694     47.54694   \n",
       "1                lon      7.56892      7.56892      7.56892   \n",
       "2                asl      283.697      283.697      283.697   \n",
       "3           variable  Temperature  Temperature  Temperature   \n",
       "4               unit           °C           °C           °C   \n",
       "...              ...          ...          ...          ...   \n",
       "14364  20240421T0000    6.8705287    3.0505285    4.8351116   \n",
       "14365  20240422T0000     9.830529    1.3405286    5.3867784   \n",
       "14366  20240423T0000     9.880529   0.50052863    5.9226117   \n",
       "14367  20240424T0000     9.240529  -0.18947133    5.6846957   \n",
       "14368  20240425T0000    11.600529    1.7305287    7.4909453   \n",
       "\n",
       "                   Basel.3          Basel.4            Basel.5  \\\n",
       "0                 47.54694         47.54694           47.54694   \n",
       "1                  7.56892          7.56892            7.56892   \n",
       "2                  283.697          283.697            283.697   \n",
       "3      Precipitation Total  Snowfall Amount  Relative Humidity   \n",
       "4                       mm               cm                  %   \n",
       "...                    ...              ...                ...   \n",
       "14364                  4.5             1.61               88.0   \n",
       "14365                  0.4              0.0               93.0   \n",
       "14366                  0.0              0.0               87.0   \n",
       "14367                  0.2              0.0               75.0   \n",
       "14368                  0.0              0.0               81.0   \n",
       "\n",
       "                 Basel.6            Basel.7            Basel.8  \n",
       "0               47.54694           47.54694           47.54694  \n",
       "1                7.56892            7.56892            7.56892  \n",
       "2                283.697            283.697            283.697  \n",
       "3      Relative Humidity  Relative Humidity  Cloud Cover Total  \n",
       "4                      %                  %                  %  \n",
       "...                  ...                ...                ...  \n",
       "14364               55.0          72.291664               73.5  \n",
       "14365               41.0          66.291664             87.875  \n",
       "14366               44.0          60.833332          89.333336  \n",
       "14367               50.0          62.791668          67.458336  \n",
       "14368               41.0          60.166668          44.416668  \n",
       "\n",
       "[14369 rows x 10 columns]"
      ]
     },
     "execution_count": 10,
     "metadata": {},
     "output_type": "execute_result"
    }
   ],
   "source": [
    "df = pd.read_csv('weather_data.csv')\n",
    "df"
   ]
  },
  {
   "cell_type": "markdown",
   "id": "9c9835c0-5462-459b-ad56-55e50c8b928a",
   "metadata": {},
   "source": [
    "As we can see, it is really messy and unstructured. Let's clean and format it:"
   ]
  },
  {
   "cell_type": "code",
   "execution_count": 12,
   "id": "1df088e3-b5e1-4e70-bf71-7cc9c4608a79",
   "metadata": {
    "tags": []
   },
   "outputs": [
    {
     "data": {
      "text/html": [
       "<div>\n",
       "<style scoped>\n",
       "    .dataframe tbody tr th:only-of-type {\n",
       "        vertical-align: middle;\n",
       "    }\n",
       "\n",
       "    .dataframe tbody tr th {\n",
       "        vertical-align: top;\n",
       "    }\n",
       "\n",
       "    .dataframe thead th {\n",
       "        text-align: right;\n",
       "    }\n",
       "</style>\n",
       "<table border=\"1\" class=\"dataframe\">\n",
       "  <thead>\n",
       "    <tr style=\"text-align: right;\">\n",
       "      <th></th>\n",
       "      <th>DATE</th>\n",
       "      <th>TMAX</th>\n",
       "      <th>TMIN</th>\n",
       "      <th>TAVG</th>\n",
       "      <th>PRCP</th>\n",
       "      <th>SNWD</th>\n",
       "      <th>HMDT_MAX</th>\n",
       "      <th>HMDT_MIN</th>\n",
       "      <th>HMDT_AVG</th>\n",
       "      <th>CLOUD_COVER</th>\n",
       "    </tr>\n",
       "  </thead>\n",
       "  <tbody>\n",
       "    <tr>\n",
       "      <th>0</th>\n",
       "      <td>2008-01-02</td>\n",
       "      <td>2.610529</td>\n",
       "      <td>-4.039472</td>\n",
       "      <td>-0.688221</td>\n",
       "      <td>0.000000</td>\n",
       "      <td>0.0</td>\n",
       "      <td>96.0</td>\n",
       "      <td>59.0</td>\n",
       "      <td>73.875000</td>\n",
       "      <td>32.166668</td>\n",
       "    </tr>\n",
       "    <tr>\n",
       "      <th>1</th>\n",
       "      <td>2008-01-03</td>\n",
       "      <td>5.630528</td>\n",
       "      <td>-1.179471</td>\n",
       "      <td>1.342195</td>\n",
       "      <td>0.000000</td>\n",
       "      <td>0.0</td>\n",
       "      <td>96.0</td>\n",
       "      <td>66.0</td>\n",
       "      <td>78.250000</td>\n",
       "      <td>70.595830</td>\n",
       "    </tr>\n",
       "    <tr>\n",
       "      <th>2</th>\n",
       "      <td>2008-01-04</td>\n",
       "      <td>9.200529</td>\n",
       "      <td>-1.619471</td>\n",
       "      <td>2.809279</td>\n",
       "      <td>0.000000</td>\n",
       "      <td>0.0</td>\n",
       "      <td>97.0</td>\n",
       "      <td>65.0</td>\n",
       "      <td>81.541664</td>\n",
       "      <td>55.558334</td>\n",
       "    </tr>\n",
       "    <tr>\n",
       "      <th>3</th>\n",
       "      <td>2008-01-05</td>\n",
       "      <td>10.950529</td>\n",
       "      <td>2.600528</td>\n",
       "      <td>6.917196</td>\n",
       "      <td>1.200000</td>\n",
       "      <td>0.0</td>\n",
       "      <td>89.0</td>\n",
       "      <td>57.0</td>\n",
       "      <td>69.791664</td>\n",
       "      <td>93.629170</td>\n",
       "    </tr>\n",
       "    <tr>\n",
       "      <th>4</th>\n",
       "      <td>2008-01-06</td>\n",
       "      <td>8.540529</td>\n",
       "      <td>5.860529</td>\n",
       "      <td>7.128862</td>\n",
       "      <td>9.100001</td>\n",
       "      <td>0.0</td>\n",
       "      <td>98.0</td>\n",
       "      <td>76.0</td>\n",
       "      <td>89.458336</td>\n",
       "      <td>90.500000</td>\n",
       "    </tr>\n",
       "  </tbody>\n",
       "</table>\n",
       "</div>"
      ],
      "text/plain": [
       "        DATE       TMAX      TMIN      TAVG      PRCP  SNWD  HMDT_MAX  \\\n",
       "0 2008-01-02   2.610529 -4.039472 -0.688221  0.000000   0.0      96.0   \n",
       "1 2008-01-03   5.630528 -1.179471  1.342195  0.000000   0.0      96.0   \n",
       "2 2008-01-04   9.200529 -1.619471  2.809279  0.000000   0.0      97.0   \n",
       "3 2008-01-05  10.950529  2.600528  6.917196  1.200000   0.0      89.0   \n",
       "4 2008-01-06   8.540529  5.860529  7.128862  9.100001   0.0      98.0   \n",
       "\n",
       "   HMDT_MIN   HMDT_AVG  CLOUD_COVER  \n",
       "0      59.0  73.875000    32.166668  \n",
       "1      66.0  78.250000    70.595830  \n",
       "2      65.0  81.541664    55.558334  \n",
       "3      57.0  69.791664    93.629170  \n",
       "4      76.0  89.458336    90.500000  "
      ]
     },
     "execution_count": 12,
     "metadata": {},
     "output_type": "execute_result"
    }
   ],
   "source": [
    "df = df.drop(df.index[:8410])\n",
    "df.reset_index(drop=True, inplace=True)\n",
    "df.rename(columns={'location': 'DATE', 'Basel': 'TMAX', 'Basel.1': 'TMIN', 'Basel.2': 'TAVG', 'Basel.3': 'PRCP', 'Basel.4': 'SNWD', 'Basel.5': 'HMDT_MAX', 'Basel.6': 'HMDT_MIN', 'Basel.7': 'HMDT_AVG', 'Basel.8': 'CLOUD_COVER'}, inplace=True)\n",
    "df['DATE'] = pd.to_datetime(df['DATE'].str[:8], format='%Y%m%d')\n",
    "df[['TMAX', 'TMIN', 'TAVG', 'PRCP', 'SNWD', 'HMDT_MAX', 'HMDT_MIN', 'HMDT_AVG', 'CLOUD_COVER']] = df[['TMAX', 'TMIN', 'TAVG', 'PRCP', 'SNWD', 'HMDT_MAX', 'HMDT_MIN', 'HMDT_AVG', 'CLOUD_COVER']].astype(float)\n",
    "df.head()"
   ]
  },
  {
   "cell_type": "markdown",
   "id": "4c376f44-212b-4474-9d87-fcb90b16c243",
   "metadata": {},
   "source": [
    "Now it's clear and concise!"
   ]
  },
  {
   "cell_type": "markdown",
   "id": "b2bc8d68-998d-4494-92a2-554209e309ce",
   "metadata": {},
   "source": [
    "### Duplicates and NaNs check"
   ]
  },
  {
   "cell_type": "code",
   "execution_count": 15,
   "id": "e25d1e87-098e-4705-b2d0-16fb9f41248f",
   "metadata": {
    "tags": []
   },
   "outputs": [
    {
     "data": {
      "text/plain": [
       "0"
      ]
     },
     "execution_count": 15,
     "metadata": {},
     "output_type": "execute_result"
    }
   ],
   "source": [
    "df.duplicated().sum()"
   ]
  },
  {
   "cell_type": "markdown",
   "id": "7e3f669a-f15e-43a9-a517-a86d39d483e4",
   "metadata": {},
   "source": [
    "There are no duplicates in our dataset"
   ]
  },
  {
   "cell_type": "code",
   "execution_count": 17,
   "id": "719ed2d1-c5f1-4e17-a0ec-cd6b00e2c0c1",
   "metadata": {
    "tags": []
   },
   "outputs": [
    {
     "data": {
      "text/plain": [
       "DATE           False\n",
       "TMAX           False\n",
       "TMIN           False\n",
       "TAVG           False\n",
       "PRCP           False\n",
       "SNWD           False\n",
       "HMDT_MAX       False\n",
       "HMDT_MIN       False\n",
       "HMDT_AVG       False\n",
       "CLOUD_COVER    False\n",
       "dtype: bool"
      ]
     },
     "execution_count": 17,
     "metadata": {},
     "output_type": "execute_result"
    }
   ],
   "source": [
    "for i in df.columns:\n",
    "    if df[i].isnull().any():\n",
    "        df[i].fillna(df[i].mode()[0], inplace=True)\n",
    "df.isnull().any()"
   ]
  },
  {
   "cell_type": "markdown",
   "id": "f0387baf-a0fe-4424-bbc4-b6f9db57ea42",
   "metadata": {},
   "source": [
    "As well as NULLs"
   ]
  },
  {
   "cell_type": "markdown",
   "id": "2fd4ee0d-52c9-4169-9cf9-4ccd438a1871",
   "metadata": {},
   "source": [
    "### Dtypes check"
   ]
  },
  {
   "cell_type": "code",
   "execution_count": 20,
   "id": "5c4249c5-7c71-4171-a580-361c50d718b9",
   "metadata": {
    "tags": []
   },
   "outputs": [
    {
     "name": "stdout",
     "output_type": "stream",
     "text": [
      "Dataframe shape: (5959, 10) \n",
      "\n",
      "<class 'pandas.core.frame.DataFrame'>\n",
      "RangeIndex: 5959 entries, 0 to 5958\n",
      "Data columns (total 10 columns):\n",
      " #   Column       Non-Null Count  Dtype         \n",
      "---  ------       --------------  -----         \n",
      " 0   DATE         5959 non-null   datetime64[ns]\n",
      " 1   TMAX         5959 non-null   float64       \n",
      " 2   TMIN         5959 non-null   float64       \n",
      " 3   TAVG         5959 non-null   float64       \n",
      " 4   PRCP         5959 non-null   float64       \n",
      " 5   SNWD         5959 non-null   float64       \n",
      " 6   HMDT_MAX     5959 non-null   float64       \n",
      " 7   HMDT_MIN     5959 non-null   float64       \n",
      " 8   HMDT_AVG     5959 non-null   float64       \n",
      " 9   CLOUD_COVER  5959 non-null   float64       \n",
      "dtypes: datetime64[ns](1), float64(9)\n",
      "memory usage: 465.7 KB\n"
     ]
    }
   ],
   "source": [
    "print('Dataframe shape:', df.shape, '\\n')\n",
    "df.info()"
   ]
  },
  {
   "cell_type": "markdown",
   "id": "4540d66f-ecae-4b7c-9862-f9cee65de9f9",
   "metadata": {},
   "source": [
    "## Modeling preparation"
   ]
  },
  {
   "cell_type": "markdown",
   "id": "31d64252-5e64-48ff-8293-75fa83e4cc5d",
   "metadata": {},
   "source": [
    "Let's define our target variable. Since our objective is to predict the occurrence of rainfall, regardless of the precipitation amount, we will binarize the target by assigning a value of 1 when the 'PRCP' (precipitation) attribute is greater than 0, and 0 otherwise."
   ]
  },
  {
   "cell_type": "code",
   "execution_count": 23,
   "id": "16f6153b-2417-4de8-8f57-cbeb394f3ed5",
   "metadata": {
    "tags": []
   },
   "outputs": [
    {
     "data": {
      "text/html": [
       "<div>\n",
       "<style scoped>\n",
       "    .dataframe tbody tr th:only-of-type {\n",
       "        vertical-align: middle;\n",
       "    }\n",
       "\n",
       "    .dataframe tbody tr th {\n",
       "        vertical-align: top;\n",
       "    }\n",
       "\n",
       "    .dataframe thead th {\n",
       "        text-align: right;\n",
       "    }\n",
       "</style>\n",
       "<table border=\"1\" class=\"dataframe\">\n",
       "  <thead>\n",
       "    <tr style=\"text-align: right;\">\n",
       "      <th></th>\n",
       "      <th>DATE</th>\n",
       "      <th>TMAX</th>\n",
       "      <th>TMIN</th>\n",
       "      <th>TAVG</th>\n",
       "      <th>PRCP</th>\n",
       "      <th>SNWD</th>\n",
       "      <th>HMDT_MAX</th>\n",
       "      <th>HMDT_MIN</th>\n",
       "      <th>HMDT_AVG</th>\n",
       "      <th>CLOUD_COVER</th>\n",
       "    </tr>\n",
       "  </thead>\n",
       "  <tbody>\n",
       "    <tr>\n",
       "      <th>0</th>\n",
       "      <td>2008-01-02</td>\n",
       "      <td>2.610529</td>\n",
       "      <td>-4.039472</td>\n",
       "      <td>-0.688221</td>\n",
       "      <td>0.0</td>\n",
       "      <td>0.0</td>\n",
       "      <td>96.0</td>\n",
       "      <td>59.0</td>\n",
       "      <td>73.875000</td>\n",
       "      <td>32.166668</td>\n",
       "    </tr>\n",
       "    <tr>\n",
       "      <th>1</th>\n",
       "      <td>2008-01-03</td>\n",
       "      <td>5.630528</td>\n",
       "      <td>-1.179471</td>\n",
       "      <td>1.342195</td>\n",
       "      <td>0.0</td>\n",
       "      <td>0.0</td>\n",
       "      <td>96.0</td>\n",
       "      <td>66.0</td>\n",
       "      <td>78.250000</td>\n",
       "      <td>70.595830</td>\n",
       "    </tr>\n",
       "    <tr>\n",
       "      <th>2</th>\n",
       "      <td>2008-01-04</td>\n",
       "      <td>9.200529</td>\n",
       "      <td>-1.619471</td>\n",
       "      <td>2.809279</td>\n",
       "      <td>0.0</td>\n",
       "      <td>0.0</td>\n",
       "      <td>97.0</td>\n",
       "      <td>65.0</td>\n",
       "      <td>81.541664</td>\n",
       "      <td>55.558334</td>\n",
       "    </tr>\n",
       "    <tr>\n",
       "      <th>3</th>\n",
       "      <td>2008-01-05</td>\n",
       "      <td>10.950529</td>\n",
       "      <td>2.600528</td>\n",
       "      <td>6.917196</td>\n",
       "      <td>1.0</td>\n",
       "      <td>0.0</td>\n",
       "      <td>89.0</td>\n",
       "      <td>57.0</td>\n",
       "      <td>69.791664</td>\n",
       "      <td>93.629170</td>\n",
       "    </tr>\n",
       "    <tr>\n",
       "      <th>4</th>\n",
       "      <td>2008-01-06</td>\n",
       "      <td>8.540529</td>\n",
       "      <td>5.860529</td>\n",
       "      <td>7.128862</td>\n",
       "      <td>1.0</td>\n",
       "      <td>0.0</td>\n",
       "      <td>98.0</td>\n",
       "      <td>76.0</td>\n",
       "      <td>89.458336</td>\n",
       "      <td>90.500000</td>\n",
       "    </tr>\n",
       "  </tbody>\n",
       "</table>\n",
       "</div>"
      ],
      "text/plain": [
       "        DATE       TMAX      TMIN      TAVG  PRCP  SNWD  HMDT_MAX  HMDT_MIN  \\\n",
       "0 2008-01-02   2.610529 -4.039472 -0.688221   0.0   0.0      96.0      59.0   \n",
       "1 2008-01-03   5.630528 -1.179471  1.342195   0.0   0.0      96.0      66.0   \n",
       "2 2008-01-04   9.200529 -1.619471  2.809279   0.0   0.0      97.0      65.0   \n",
       "3 2008-01-05  10.950529  2.600528  6.917196   1.0   0.0      89.0      57.0   \n",
       "4 2008-01-06   8.540529  5.860529  7.128862   1.0   0.0      98.0      76.0   \n",
       "\n",
       "    HMDT_AVG  CLOUD_COVER  \n",
       "0  73.875000    32.166668  \n",
       "1  78.250000    70.595830  \n",
       "2  81.541664    55.558334  \n",
       "3  69.791664    93.629170  \n",
       "4  89.458336    90.500000  "
      ]
     },
     "execution_count": 23,
     "metadata": {},
     "output_type": "execute_result"
    }
   ],
   "source": [
    "df.loc[df['PRCP'] > 0, 'PRCP'] = 1\n",
    "df.head()"
   ]
  },
  {
   "cell_type": "markdown",
   "id": "1ae8b120-f1e0-40cf-9597-96207b78a6aa",
   "metadata": {},
   "source": [
    "### Class imbalance check"
   ]
  },
  {
   "cell_type": "code",
   "execution_count": 25,
   "id": "854c7ffd-8e43-41c2-84f9-a766ede70283",
   "metadata": {
    "tags": []
   },
   "outputs": [
    {
     "data": {
      "text/plain": [
       "<Axes: ylabel='count'>"
      ]
     },
     "execution_count": 25,
     "metadata": {},
     "output_type": "execute_result"
    },
    {
     "data": {
      "image/png": "[encoded data removed]",
      "text/plain": [
       "<Figure size 640x480 with 1 Axes>"
      ]
     },
     "metadata": {},
     "output_type": "display_data"
    }
   ],
   "source": [
    "df['PRCP'].value_counts().plot(kind='pie', colors=['grey', 'navy'])"
   ]
  },
  {
   "cell_type": "markdown",
   "id": "55d7eb0c-d890-4a0f-9487-84dca95a2cfa",
   "metadata": {},
   "source": [
    "Based on the class value counts plot we can assume that our dataset is pretty balanced."
   ]
  },
  {
   "cell_type": "markdown",
   "id": "c64928c6-7914-4ab6-b05d-5f231929b065",
   "metadata": {},
   "source": [
    "#### Features correlation"
   ]
  },
  {
   "cell_type": "code",
   "execution_count": 28,
   "id": "9b2226a1-a082-44d0-8cdc-c764f014fbdb",
   "metadata": {
    "tags": []
   },
   "outputs": [
    {
     "data": {
      "image/png": "[encoded data removed]",
      "text/plain": [
       "<Figure size 1400x700 with 2 Axes>"
      ]
     },
     "metadata": {},
     "output_type": "display_data"
    }
   ],
   "source": [
    "plt.figure(figsize=(14, 7))\n",
    "heatmap = sns.heatmap(df.corr(), vmin=-1, vmax=1, annot=True, cmap=sns.color_palette(\"crest\", as_cmap=True))\n",
    "heatmap.set_title('Correlation Heatmap', fontdict={'fontsize':14}, pad=12);"
   ]
  },
  {
   "cell_type": "markdown",
   "id": "54c311f5-3147-4ee3-a775-e0072faae469",
   "metadata": {},
   "source": [
    "### Feature Selection based on chi-square test"
   ]
  },
  {
   "cell_type": "code",
   "execution_count": 30,
   "id": "91a08842-11bf-469c-adbc-80a542c58ca1",
   "metadata": {
    "tags": []
   },
   "outputs": [
    {
     "data": {
      "text/plain": [
       "(array([5.67383945e+00, 2.16330671e+00, 3.11450665e-01, 2.77527838e+01,\n",
       "        7.83815332e+00, 4.18301591e+01, 2.43440261e+01, 4.55311481e+02]),\n",
       " array([1.72197274e-002, 1.41340240e-001, 5.76791361e-001, 1.37849701e-007,\n",
       "        5.11548385e-003, 9.95558934e-011, 8.05762359e-007, 5.03738688e-101]))"
      ]
     },
     "execution_count": 30,
     "metadata": {},
     "output_type": "execute_result"
    }
   ],
   "source": [
    "from sklearn.feature_selection import chi2\n",
    "from sklearn.preprocessing import MinMaxScaler\n",
    "\n",
    "X = df.drop(['PRCP', 'DATE'],axis='columns')\n",
    "y = df.PRCP\n",
    "\n",
    "scaler = MinMaxScaler()\n",
    "X_scaled = scaler.fit_transform(X)\n",
    "\n",
    "chi_scores = chi2(X_scaled, y)\n",
    "chi_scores"
   ]
  },
  {
   "cell_type": "code",
   "execution_count": 31,
   "id": "2f45ccab-2a1f-4f96-873e-917e89480e89",
   "metadata": {
    "tags": []
   },
   "outputs": [
    {
     "data": {
      "text/plain": [
       "<Axes: >"
      ]
     },
     "execution_count": 31,
     "metadata": {},
     "output_type": "execute_result"
    },
    {
     "data": {
      "image/png": "[encoded data removed]",
      "text/plain": [
       "<Figure size 640x480 with 1 Axes>"
      ]
     },
     "metadata": {},
     "output_type": "display_data"
    }
   ],
   "source": [
    "p_values = pd.Series(chi_scores[1],index = X.columns)\n",
    "p_values.sort_values(ascending = False , inplace = True)\n",
    "p_values.plot.bar()"
   ]
  },
  {
   "cell_type": "markdown",
   "id": "c481aa9a-37fe-40ab-89c4-0e1384c89ca1",
   "metadata": {},
   "source": [
    "Since TAVG has high p-value, it is independent of the reponse and can not be considered for model training."
   ]
  },
  {
   "cell_type": "code",
   "execution_count": 33,
   "id": "78131102-866d-4eb2-bcfc-bf7fbf495ed0",
   "metadata": {
    "tags": []
   },
   "outputs": [
    {
     "data": {
      "text/html": [
       "<div>\n",
       "<style scoped>\n",
       "    .dataframe tbody tr th:only-of-type {\n",
       "        vertical-align: middle;\n",
       "    }\n",
       "\n",
       "    .dataframe tbody tr th {\n",
       "        vertical-align: top;\n",
       "    }\n",
       "\n",
       "    .dataframe thead th {\n",
       "        text-align: right;\n",
       "    }\n",
       "</style>\n",
       "<table border=\"1\" class=\"dataframe\">\n",
       "  <thead>\n",
       "    <tr style=\"text-align: right;\">\n",
       "      <th></th>\n",
       "      <th>TMAX</th>\n",
       "      <th>TMIN</th>\n",
       "      <th>SNWD</th>\n",
       "      <th>HMDT_MAX</th>\n",
       "      <th>HMDT_MIN</th>\n",
       "      <th>HMDT_AVG</th>\n",
       "      <th>CLOUD_COVER</th>\n",
       "    </tr>\n",
       "  </thead>\n",
       "  <tbody>\n",
       "    <tr>\n",
       "      <th>0</th>\n",
       "      <td>2.610529</td>\n",
       "      <td>-4.039472</td>\n",
       "      <td>0.0</td>\n",
       "      <td>96.0</td>\n",
       "      <td>59.0</td>\n",
       "      <td>73.875000</td>\n",
       "      <td>32.166668</td>\n",
       "    </tr>\n",
       "    <tr>\n",
       "      <th>1</th>\n",
       "      <td>5.630528</td>\n",
       "      <td>-1.179471</td>\n",
       "      <td>0.0</td>\n",
       "      <td>96.0</td>\n",
       "      <td>66.0</td>\n",
       "      <td>78.250000</td>\n",
       "      <td>70.595830</td>\n",
       "    </tr>\n",
       "    <tr>\n",
       "      <th>2</th>\n",
       "      <td>9.200529</td>\n",
       "      <td>-1.619471</td>\n",
       "      <td>0.0</td>\n",
       "      <td>97.0</td>\n",
       "      <td>65.0</td>\n",
       "      <td>81.541664</td>\n",
       "      <td>55.558334</td>\n",
       "    </tr>\n",
       "    <tr>\n",
       "      <th>3</th>\n",
       "      <td>10.950529</td>\n",
       "      <td>2.600528</td>\n",
       "      <td>0.0</td>\n",
       "      <td>89.0</td>\n",
       "      <td>57.0</td>\n",
       "      <td>69.791664</td>\n",
       "      <td>93.629170</td>\n",
       "    </tr>\n",
       "    <tr>\n",
       "      <th>4</th>\n",
       "      <td>8.540529</td>\n",
       "      <td>5.860529</td>\n",
       "      <td>0.0</td>\n",
       "      <td>98.0</td>\n",
       "      <td>76.0</td>\n",
       "      <td>89.458336</td>\n",
       "      <td>90.500000</td>\n",
       "    </tr>\n",
       "  </tbody>\n",
       "</table>\n",
       "</div>"
      ],
      "text/plain": [
       "        TMAX      TMIN  SNWD  HMDT_MAX  HMDT_MIN   HMDT_AVG  CLOUD_COVER\n",
       "0   2.610529 -4.039472   0.0      96.0      59.0  73.875000    32.166668\n",
       "1   5.630528 -1.179471   0.0      96.0      66.0  78.250000    70.595830\n",
       "2   9.200529 -1.619471   0.0      97.0      65.0  81.541664    55.558334\n",
       "3  10.950529  2.600528   0.0      89.0      57.0  69.791664    93.629170\n",
       "4   8.540529  5.860529   0.0      98.0      76.0  89.458336    90.500000"
      ]
     },
     "execution_count": 33,
     "metadata": {},
     "output_type": "execute_result"
    }
   ],
   "source": [
    "X = X.drop(['TAVG'],axis = 1)\n",
    "X.head()"
   ]
  },
  {
   "cell_type": "markdown",
   "id": "497616b4-359a-422b-a1f0-e72d5ce7cd37",
   "metadata": {},
   "source": [
    "## Modeling"
   ]
  },
  {
   "cell_type": "code",
   "execution_count": 35,
   "id": "26143b32-330b-40ba-aa1a-1e2816ab98c5",
   "metadata": {},
   "outputs": [],
   "source": [
    "from sklearn.linear_model import LogisticRegression\n",
    "from sklearn.tree import DecisionTreeClassifier\n",
    "from sklearn.ensemble import RandomForestClassifier\n",
    "from sklearn.model_selection import GridSearchCV, train_test_split\n",
    "from sklearn.metrics import accuracy_score, precision_score, recall_score,\\\n",
    "f1_score, confusion_matrix, ConfusionMatrixDisplay, classification_report\n",
    "from sklearn.metrics import roc_auc_score, roc_curve\n",
    "from sklearn.tree import plot_tree\n",
    "import sklearn.metrics as metrics\n",
    "from sklearn import metrics as mcs\n",
    "import pickle"
   ]
  },
  {
   "cell_type": "markdown",
   "id": "04cb62fa-7609-41bb-b998-32dce63be76a",
   "metadata": {},
   "source": [
    "### Logistic Regression "
   ]
  },
  {
   "cell_type": "markdown",
   "id": "d5a71316-3ccd-4229-828d-5883bc915238",
   "metadata": {},
   "source": [
    "Splitting our data into testing and training sets:"
   ]
  },
  {
   "cell_type": "code",
   "execution_count": 38,
   "id": "494a180a-c1d5-4550-8c14-3e5f8ab338f8",
   "metadata": {
    "tags": []
   },
   "outputs": [],
   "source": [
    "X_train, X_test, y_train, y_test = train_test_split(X, y, test_size=0.25, stratify=y)"
   ]
  },
  {
   "cell_type": "markdown",
   "id": "d749a72c-1365-44f0-9652-2587cad50b2e",
   "metadata": {},
   "source": [
    "Declaring and fitting our model to data:"
   ]
  },
  {
   "cell_type": "code",
   "execution_count": 40,
   "id": "03f687f1-e61a-42c2-8e7c-b67e8d9c2fed",
   "metadata": {
    "tags": []
   },
   "outputs": [],
   "source": [
    "log_clf = LogisticRegression(max_iter=500).fit(X_train, y_train)\n",
    "\n",
    "y_pred = log_clf.predict(X_test)"
   ]
  },
  {
   "cell_type": "markdown",
   "id": "21920baa-855e-414a-b69f-77d71a703940",
   "metadata": {},
   "source": [
    "#### Results and evaluation"
   ]
  },
  {
   "cell_type": "markdown",
   "id": "13dc11df-0989-4f79-ad93-8ac2da7b4e3a",
   "metadata": {},
   "source": [
    "Confusion matrix:"
   ]
  },
  {
   "cell_type": "code",
   "execution_count": 43,
   "id": "832f7a9b-48af-4270-ba90-2ff4024783a8",
   "metadata": {
    "tags": []
   },
   "outputs": [
    {
     "data": {
      "image/png": "[encoded data removed]",
      "text/plain": [
       "<Figure size 640x480 with 2 Axes>"
      ]
     },
     "metadata": {},
     "output_type": "display_data"
    }
   ],
   "source": [
    "log_cm = confusion_matrix(y_test, y_pred, labels=log_clf.classes_)\n",
    "log_disp = ConfusionMatrixDisplay(confusion_matrix=log_cm, \n",
    "                                  display_labels=log_clf.classes_)\n",
    "log_disp.plot(values_format='')\n",
    "plt.show()"
   ]
  },
  {
   "cell_type": "code",
   "execution_count": 44,
   "id": "25e8fb30-d8a5-45a8-905d-ba8fb8f539ce",
   "metadata": {
    "tags": []
   },
   "outputs": [
    {
     "name": "stdout",
     "output_type": "stream",
     "text": [
      "              precision    recall  f1-score   support\n",
      "\n",
      "         0.0       0.82      0.82      0.82       827\n",
      "         1.0       0.77      0.77      0.77       663\n",
      "\n",
      "    accuracy                           0.80      1490\n",
      "   macro avg       0.79      0.79      0.79      1490\n",
      "weighted avg       0.80      0.80      0.80      1490\n",
      "\n"
     ]
    }
   ],
   "source": [
    "print(classification_report(y_test, y_pred))"
   ]
  },
  {
   "cell_type": "markdown",
   "id": "51f95397-bba7-411a-8f08-4194004dc5d4",
   "metadata": {},
   "source": [
    "### Decision Tree Model"
   ]
  },
  {
   "cell_type": "markdown",
   "id": "96f5d89f-9ddd-4b5d-b4b8-13c582e3c62b",
   "metadata": {},
   "source": [
    "Declaring decision tree model and setting cross-validation:"
   ]
  },
  {
   "cell_type": "code",
   "execution_count": 47,
   "id": "65b78003-829f-427b-89dd-4be42cae6f7b",
   "metadata": {
    "tags": []
   },
   "outputs": [],
   "source": [
    "tree_ = DecisionTreeClassifier()\n",
    "cv_params = {'max_depth':[2, 4, 6, 8, 10, 12, None],\n",
    "             'min_samples_leaf': [2, 5, 1],\n",
    "             'min_samples_split': [2, 4, 6]\n",
    "             }\n",
    "scoring = {'accuracy', 'precision', 'recall', 'f1', 'roc_auc'}\n",
    "tree = GridSearchCV(tree_, cv_params, scoring=scoring, cv=4, refit='roc_auc')"
   ]
  },
  {
   "cell_type": "markdown",
   "id": "33df0a92-c644-45d2-8180-93da3f315751",
   "metadata": {},
   "source": [
    "Fitting our model to data:"
   ]
  },
  {
   "cell_type": "code",
   "execution_count": 49,
   "id": "6e1fc3f3-f4fb-45e9-b365-f46b16d641d5",
   "metadata": {
    "tags": []
   },
   "outputs": [
    {
     "name": "stdout",
     "output_type": "stream",
     "text": [
      "CPU times: total: 9.06 s\n",
      "Wall time: 9.33 s\n"
     ]
    },
    {
     "data": {
      "text/html": [
       "<style>#sk-container-id-1 {color: black;background-color: white;}#sk-container-id-1 pre{padding: 0;}#sk-container-id-1 div.sk-toggleable {background-color: white;}#sk-container-id-1 label.sk-toggleable__label {cursor: pointer;display: block;width: 100%;margin-bottom: 0;padding: 0.3em;box-sizing: border-box;text-align: center;}#sk-container-id-1 label.sk-toggleable__label-arrow:before {content: \"▸\";float: left;margin-right: 0.25em;color: #696969;}#sk-container-id-1 label.sk-toggleable__label-arrow:hover:before {color: black;}#sk-container-id-1 div.sk-estimator:hover label.sk-toggleable__label-arrow:before {color: black;}#sk-container-id-1 div.sk-toggleable__content {max-height: 0;max-width: 0;overflow: hidden;text-align: left;background-color: #f0f8ff;}#sk-container-id-1 div.sk-toggleable__content pre {margin: 0.2em;color: black;border-radius: 0.25em;background-color: #f0f8ff;}#sk-container-id-1 input.sk-toggleable__control:checked~div.sk-toggleable__content {max-height: 200px;max-width: 100%;overflow: auto;}#sk-container-id-1 input.sk-toggleable__control:checked~label.sk-toggleable__label-arrow:before {content: \"▾\";}#sk-container-id-1 div.sk-estimator input.sk-toggleable__control:checked~label.sk-toggleable__label {background-color: #d4ebff;}#sk-container-id-1 div.sk-label input.sk-toggleable__control:checked~label.sk-toggleable__label {background-color: #d4ebff;}#sk-container-id-1 input.sk-hidden--visually {border: 0;clip: rect(1px 1px 1px 1px);clip: rect(1px, 1px, 1px, 1px);height: 1px;margin: -1px;overflow: hidden;padding: 0;position: absolute;width: 1px;}#sk-container-id-1 div.sk-estimator {font-family: monospace;background-color: #f0f8ff;border: 1px dotted black;border-radius: 0.25em;box-sizing: border-box;margin-bottom: 0.5em;}#sk-container-id-1 div.sk-estimator:hover {background-color: #d4ebff;}#sk-container-id-1 div.sk-parallel-item::after {content: \"\";width: 100%;border-bottom: 1px solid gray;flex-grow: 1;}#sk-container-id-1 div.sk-label:hover label.sk-toggleable__label {background-color: #d4ebff;}#sk-container-id-1 div.sk-serial::before {content: \"\";position: absolute;border-left: 1px solid gray;box-sizing: border-box;top: 0;bottom: 0;left: 50%;z-index: 0;}#sk-container-id-1 div.sk-serial {display: flex;flex-direction: column;align-items: center;background-color: white;padding-right: 0.2em;padding-left: 0.2em;position: relative;}#sk-container-id-1 div.sk-item {position: relative;z-index: 1;}#sk-container-id-1 div.sk-parallel {display: flex;align-items: stretch;justify-content: center;background-color: white;position: relative;}#sk-container-id-1 div.sk-item::before, #sk-container-id-1 div.sk-parallel-item::before {content: \"\";position: absolute;border-left: 1px solid gray;box-sizing: border-box;top: 0;bottom: 0;left: 50%;z-index: -1;}#sk-container-id-1 div.sk-parallel-item {display: flex;flex-direction: column;z-index: 1;position: relative;background-color: white;}#sk-container-id-1 div.sk-parallel-item:first-child::after {align-self: flex-end;width: 50%;}#sk-container-id-1 div.sk-parallel-item:last-child::after {align-self: flex-start;width: 50%;}#sk-container-id-1 div.sk-parallel-item:only-child::after {width: 0;}#sk-container-id-1 div.sk-dashed-wrapped {border: 1px dashed gray;margin: 0 0.4em 0.5em 0.4em;box-sizing: border-box;padding-bottom: 0.4em;background-color: white;}#sk-container-id-1 div.sk-label label {font-family: monospace;font-weight: bold;display: inline-block;line-height: 1.2em;}#sk-container-id-1 div.sk-label-container {text-align: center;}#sk-container-id-1 div.sk-container {/* jupyter's `normalize.less` sets `[hidden] { display: none; }` but bootstrap.min.css set `[hidden] { display: none !important; }` so we also need the `!important` here to be able to override the default hidden behavior on the sphinx rendered scikit-learn.org. See: https://github.com/scikit-learn/scikit-learn/issues/21755 */display: inline-block !important;position: relative;}#sk-container-id-1 div.sk-text-repr-fallback {display: none;}</style><div id=\"sk-container-id-1\" class=\"sk-top-container\"><div class=\"sk-text-repr-fallback\"><pre>GridSearchCV(cv=4, estimator=DecisionTreeClassifier(),\n",
       "             param_grid={&#x27;max_depth&#x27;: [2, 4, 6, 8, 10, 12, None],\n",
       "                         &#x27;min_samples_leaf&#x27;: [2, 5, 1],\n",
       "                         &#x27;min_samples_split&#x27;: [2, 4, 6]},\n",
       "             refit=&#x27;roc_auc&#x27;,\n",
       "             scoring={&#x27;recall&#x27;, &#x27;roc_auc&#x27;, &#x27;accuracy&#x27;, &#x27;precision&#x27;, &#x27;f1&#x27;})</pre><b>In a Jupyter environment, please rerun this cell to show the HTML representation or trust the notebook. <br />On GitHub, the HTML representation is unable to render, please try loading this page with nbviewer.org.</b></div><div class=\"sk-container\" hidden><div class=\"sk-item sk-dashed-wrapped\"><div class=\"sk-label-container\"><div class=\"sk-label sk-toggleable\"><input class=\"sk-toggleable__control sk-hidden--visually\" id=\"sk-estimator-id-1\" type=\"checkbox\" ><label for=\"sk-estimator-id-1\" class=\"sk-toggleable__label sk-toggleable__label-arrow\">GridSearchCV</label><div class=\"sk-toggleable__content\"><pre>GridSearchCV(cv=4, estimator=DecisionTreeClassifier(),\n",
       "             param_grid={&#x27;max_depth&#x27;: [2, 4, 6, 8, 10, 12, None],\n",
       "                         &#x27;min_samples_leaf&#x27;: [2, 5, 1],\n",
       "                         &#x27;min_samples_split&#x27;: [2, 4, 6]},\n",
       "             refit=&#x27;roc_auc&#x27;,\n",
       "             scoring={&#x27;recall&#x27;, &#x27;roc_auc&#x27;, &#x27;accuracy&#x27;, &#x27;precision&#x27;, &#x27;f1&#x27;})</pre></div></div></div><div class=\"sk-parallel\"><div class=\"sk-parallel-item\"><div class=\"sk-item\"><div class=\"sk-label-container\"><div class=\"sk-label sk-toggleable\"><input class=\"sk-toggleable__control sk-hidden--visually\" id=\"sk-estimator-id-2\" type=\"checkbox\" ><label for=\"sk-estimator-id-2\" class=\"sk-toggleable__label sk-toggleable__label-arrow\">estimator: DecisionTreeClassifier</label><div class=\"sk-toggleable__content\"><pre>DecisionTreeClassifier()</pre></div></div></div><div class=\"sk-serial\"><div class=\"sk-item\"><div class=\"sk-estimator sk-toggleable\"><input class=\"sk-toggleable__control sk-hidden--visually\" id=\"sk-estimator-id-3\" type=\"checkbox\" ><label for=\"sk-estimator-id-3\" class=\"sk-toggleable__label sk-toggleable__label-arrow\">DecisionTreeClassifier</label><div class=\"sk-toggleable__content\"><pre>DecisionTreeClassifier()</pre></div></div></div></div></div></div></div></div></div></div>"
      ],
      "text/plain": [
       "GridSearchCV(cv=4, estimator=DecisionTreeClassifier(),\n",
       "             param_grid={'max_depth': [2, 4, 6, 8, 10, 12, None],\n",
       "                         'min_samples_leaf': [2, 5, 1],\n",
       "                         'min_samples_split': [2, 4, 6]},\n",
       "             refit='roc_auc',\n",
       "             scoring={'recall', 'roc_auc', 'accuracy', 'precision', 'f1'})"
      ]
     },
     "execution_count": 49,
     "metadata": {},
     "output_type": "execute_result"
    }
   ],
   "source": [
    "%%time\n",
    "tree.fit(X_train, y_train)"
   ]
  },
  {
   "cell_type": "markdown",
   "id": "80769330-7fde-4aef-a880-f8cb29c545e0",
   "metadata": {},
   "source": [
    "Model's best parameters:"
   ]
  },
  {
   "cell_type": "markdown",
   "id": "b487e913-6f3c-4c7e-b513-5da4e332eadf",
   "metadata": {},
   "source": [
    "#### Results and evaluation"
   ]
  },
  {
   "cell_type": "code",
   "execution_count": 52,
   "id": "63c6c4e5-ca69-4b1f-a003-277fd0aca66c",
   "metadata": {
    "tags": []
   },
   "outputs": [
    {
     "data": {
      "text/plain": [
       "{'max_depth': 6, 'min_samples_leaf': 5, 'min_samples_split': 4}"
      ]
     },
     "execution_count": 52,
     "metadata": {},
     "output_type": "execute_result"
    }
   ],
   "source": [
    "tree.best_params_"
   ]
  },
  {
   "cell_type": "code",
   "execution_count": 53,
   "id": "1e0a24c1-2de1-4af7-b06d-a75500d3dd16",
   "metadata": {
    "tags": []
   },
   "outputs": [],
   "source": [
    "def make_results(model_name:str, model_object, metric:str):\n",
    "    \n",
    "    \"\"\"\n",
    "        Creates a dataframe with model's evaluatin metrics.    \n",
    "    \"\"\"\n",
    "    \n",
    "    metric_dict = {'auc': 'mean_test_roc_auc',\n",
    "                   'precision': 'mean_test_precision',\n",
    "                   'recall': 'mean_test_recall',\n",
    "                   'f1': 'mean_test_f1',\n",
    "                   'accuracy': 'mean_test_accuracy'\n",
    "                  }\n",
    "    cv_results = pd.DataFrame(model_object.cv_results_)\n",
    "    best_estimator_results = cv_results.iloc[cv_results[metric_dict[metric]].idxmax(), :]\n",
    "    auc = best_estimator_results.mean_test_roc_auc\n",
    "    f1 = best_estimator_results.mean_test_f1\n",
    "    recall = best_estimator_results.mean_test_recall\n",
    "    precision = best_estimator_results.mean_test_precision\n",
    "    accuracy = best_estimator_results.mean_test_accuracy\n",
    "    table = pd.DataFrame()\n",
    "    table = pd.DataFrame({'model': [model_name],\n",
    "                          'precision': [precision],\n",
    "                          'recall': [recall],\n",
    "                          'F1': [f1],\n",
    "                          'accuracy': [accuracy],\n",
    "                          'auc': [auc]\n",
    "                        })\n",
    "    return table"
   ]
  },
  {
   "cell_type": "markdown",
   "id": "fda610f0-1a8b-44b9-b10d-c52aff3632ff",
   "metadata": {},
   "source": [
    "Model's results:"
   ]
  },
  {
   "cell_type": "code",
   "execution_count": 55,
   "id": "d6783158-1009-4cfb-8aff-a5af419332ba",
   "metadata": {
    "tags": []
   },
   "outputs": [
    {
     "data": {
      "text/html": [
       "<div>\n",
       "<style scoped>\n",
       "    .dataframe tbody tr th:only-of-type {\n",
       "        vertical-align: middle;\n",
       "    }\n",
       "\n",
       "    .dataframe tbody tr th {\n",
       "        vertical-align: top;\n",
       "    }\n",
       "\n",
       "    .dataframe thead th {\n",
       "        text-align: right;\n",
       "    }\n",
       "</style>\n",
       "<table border=\"1\" class=\"dataframe\">\n",
       "  <thead>\n",
       "    <tr style=\"text-align: right;\">\n",
       "      <th></th>\n",
       "      <th>model</th>\n",
       "      <th>precision</th>\n",
       "      <th>recall</th>\n",
       "      <th>F1</th>\n",
       "      <th>accuracy</th>\n",
       "      <th>auc</th>\n",
       "    </tr>\n",
       "  </thead>\n",
       "  <tbody>\n",
       "    <tr>\n",
       "      <th>0</th>\n",
       "      <td>decision tree</td>\n",
       "      <td>0.758857</td>\n",
       "      <td>0.753521</td>\n",
       "      <td>0.754593</td>\n",
       "      <td>0.782728</td>\n",
       "      <td>0.869352</td>\n",
       "    </tr>\n",
       "  </tbody>\n",
       "</table>\n",
       "</div>"
      ],
      "text/plain": [
       "           model  precision    recall        F1  accuracy       auc\n",
       "0  decision tree   0.758857  0.753521  0.754593  0.782728  0.869352"
      ]
     },
     "execution_count": 55,
     "metadata": {},
     "output_type": "execute_result"
    }
   ],
   "source": [
    "tree_res = make_results('decision tree', tree, 'auc')\n",
    "tree_res"
   ]
  },
  {
   "cell_type": "markdown",
   "id": "51230ea4-4154-4a4a-a41f-e29ef22aefc3",
   "metadata": {},
   "source": [
    "Let's make model's feature importances plot:"
   ]
  },
  {
   "cell_type": "code",
   "execution_count": 57,
   "id": "80b843b3-ecd3-47c2-a60d-dec4916fc2c4",
   "metadata": {
    "tags": []
   },
   "outputs": [
    {
     "data": {
      "image/png": "[encoded data removed]",
      "text/plain": [
       "<Figure size 640x480 with 1 Axes>"
      ]
     },
     "metadata": {},
     "output_type": "display_data"
    }
   ],
   "source": [
    "tree_importances = pd.DataFrame(tree.best_estimator_.feature_importances_, \n",
    "                                 columns=['gini_importance'], \n",
    "                                 index=X.columns\n",
    "                                )\n",
    "tree_importances = tree_importances.sort_values(by='gini_importance', ascending=False)\n",
    "tree_importances = tree_importances[tree_importances['gini_importance'] != 0]\n",
    "sns.barplot(data=tree_importances, x=\"gini_importance\", y=tree_importances.index, orient='h')\n",
    "plt.title(\"Decision Tree\", fontsize=12)\n",
    "plt.ylabel(\"Feature\")\n",
    "plt.xlabel(\"Importance\")\n",
    "plt.show()"
   ]
  },
  {
   "cell_type": "markdown",
   "id": "3fe477a9-c5e0-4063-998c-3cbdb21287af",
   "metadata": {},
   "source": [
    "Among the features considered, CLOUD_COVER emerges as the one that affects the model's performance the most."
   ]
  },
  {
   "cell_type": "markdown",
   "id": "5b76b142-fa8b-47f0-8993-1c4cdabe2b26",
   "metadata": {},
   "source": [
    "### Random Forest Model"
   ]
  },
  {
   "cell_type": "markdown",
   "id": "3801ce3b-3ac7-450e-ae7b-280c5e2fd777",
   "metadata": {},
   "source": [
    "Declaring random forest model and setting cross-validation:"
   ]
  },
  {
   "cell_type": "code",
   "execution_count": 61,
   "id": "84160060-e264-4ec1-a83f-436ef190348a",
   "metadata": {
    "tags": []
   },
   "outputs": [],
   "source": [
    "rf_ = RandomForestClassifier()\n",
    "cv_params = {'max_depth': [3, 5, None], \n",
    "             'max_features': [1.0],\n",
    "             'max_samples': [0.7, 1.0],\n",
    "             'min_samples_leaf': [1,2,3],\n",
    "             'min_samples_split': [2,3,4],\n",
    "             'n_estimators': [300, 500],\n",
    "             }  \n",
    "scoring = {'accuracy', 'precision', 'recall', 'f1', 'roc_auc'}\n",
    "rf = GridSearchCV(rf_, cv_params, scoring=scoring, cv=4, refit='roc_auc', n_jobs=-1)"
   ]
  },
  {
   "cell_type": "markdown",
   "id": "b959886f-9e61-4d22-859c-b59a1ffeb738",
   "metadata": {},
   "source": [
    "Fitting our model to data:"
   ]
  },
  {
   "cell_type": "code",
   "execution_count": 63,
   "id": "a5d458ae-a6a5-477f-bfb0-2cb799b4d15c",
   "metadata": {
    "tags": []
   },
   "outputs": [
    {
     "name": "stdout",
     "output_type": "stream",
     "text": [
      "CPU times: total: 15.3 s\n",
      "Wall time: 16min 23s\n"
     ]
    },
    {
     "data": {
      "text/html": [
       "<style>#sk-container-id-2 {color: black;background-color: white;}#sk-container-id-2 pre{padding: 0;}#sk-container-id-2 div.sk-toggleable {background-color: white;}#sk-container-id-2 label.sk-toggleable__label {cursor: pointer;display: block;width: 100%;margin-bottom: 0;padding: 0.3em;box-sizing: border-box;text-align: center;}#sk-container-id-2 label.sk-toggleable__label-arrow:before {content: \"▸\";float: left;margin-right: 0.25em;color: #696969;}#sk-container-id-2 label.sk-toggleable__label-arrow:hover:before {color: black;}#sk-container-id-2 div.sk-estimator:hover label.sk-toggleable__label-arrow:before {color: black;}#sk-container-id-2 div.sk-toggleable__content {max-height: 0;max-width: 0;overflow: hidden;text-align: left;background-color: #f0f8ff;}#sk-container-id-2 div.sk-toggleable__content pre {margin: 0.2em;color: black;border-radius: 0.25em;background-color: #f0f8ff;}#sk-container-id-2 input.sk-toggleable__control:checked~div.sk-toggleable__content {max-height: 200px;max-width: 100%;overflow: auto;}#sk-container-id-2 input.sk-toggleable__control:checked~label.sk-toggleable__label-arrow:before {content: \"▾\";}#sk-container-id-2 div.sk-estimator input.sk-toggleable__control:checked~label.sk-toggleable__label {background-color: #d4ebff;}#sk-container-id-2 div.sk-label input.sk-toggleable__control:checked~label.sk-toggleable__label {background-color: #d4ebff;}#sk-container-id-2 input.sk-hidden--visually {border: 0;clip: rect(1px 1px 1px 1px);clip: rect(1px, 1px, 1px, 1px);height: 1px;margin: -1px;overflow: hidden;padding: 0;position: absolute;width: 1px;}#sk-container-id-2 div.sk-estimator {font-family: monospace;background-color: #f0f8ff;border: 1px dotted black;border-radius: 0.25em;box-sizing: border-box;margin-bottom: 0.5em;}#sk-container-id-2 div.sk-estimator:hover {background-color: #d4ebff;}#sk-container-id-2 div.sk-parallel-item::after {content: \"\";width: 100%;border-bottom: 1px solid gray;flex-grow: 1;}#sk-container-id-2 div.sk-label:hover label.sk-toggleable__label {background-color: #d4ebff;}#sk-container-id-2 div.sk-serial::before {content: \"\";position: absolute;border-left: 1px solid gray;box-sizing: border-box;top: 0;bottom: 0;left: 50%;z-index: 0;}#sk-container-id-2 div.sk-serial {display: flex;flex-direction: column;align-items: center;background-color: white;padding-right: 0.2em;padding-left: 0.2em;position: relative;}#sk-container-id-2 div.sk-item {position: relative;z-index: 1;}#sk-container-id-2 div.sk-parallel {display: flex;align-items: stretch;justify-content: center;background-color: white;position: relative;}#sk-container-id-2 div.sk-item::before, #sk-container-id-2 div.sk-parallel-item::before {content: \"\";position: absolute;border-left: 1px solid gray;box-sizing: border-box;top: 0;bottom: 0;left: 50%;z-index: -1;}#sk-container-id-2 div.sk-parallel-item {display: flex;flex-direction: column;z-index: 1;position: relative;background-color: white;}#sk-container-id-2 div.sk-parallel-item:first-child::after {align-self: flex-end;width: 50%;}#sk-container-id-2 div.sk-parallel-item:last-child::after {align-self: flex-start;width: 50%;}#sk-container-id-2 div.sk-parallel-item:only-child::after {width: 0;}#sk-container-id-2 div.sk-dashed-wrapped {border: 1px dashed gray;margin: 0 0.4em 0.5em 0.4em;box-sizing: border-box;padding-bottom: 0.4em;background-color: white;}#sk-container-id-2 div.sk-label label {font-family: monospace;font-weight: bold;display: inline-block;line-height: 1.2em;}#sk-container-id-2 div.sk-label-container {text-align: center;}#sk-container-id-2 div.sk-container {/* jupyter's `normalize.less` sets `[hidden] { display: none; }` but bootstrap.min.css set `[hidden] { display: none !important; }` so we also need the `!important` here to be able to override the default hidden behavior on the sphinx rendered scikit-learn.org. See: https://github.com/scikit-learn/scikit-learn/issues/21755 */display: inline-block !important;position: relative;}#sk-container-id-2 div.sk-text-repr-fallback {display: none;}</style><div id=\"sk-container-id-2\" class=\"sk-top-container\"><div class=\"sk-text-repr-fallback\"><pre>GridSearchCV(cv=4, estimator=RandomForestClassifier(), n_jobs=-1,\n",
       "             param_grid={&#x27;max_depth&#x27;: [3, 5, None], &#x27;max_features&#x27;: [1.0],\n",
       "                         &#x27;max_samples&#x27;: [0.7, 1.0],\n",
       "                         &#x27;min_samples_leaf&#x27;: [1, 2, 3],\n",
       "                         &#x27;min_samples_split&#x27;: [2, 3, 4],\n",
       "                         &#x27;n_estimators&#x27;: [300, 500]},\n",
       "             refit=&#x27;roc_auc&#x27;,\n",
       "             scoring={&#x27;recall&#x27;, &#x27;roc_auc&#x27;, &#x27;accuracy&#x27;, &#x27;precision&#x27;, &#x27;f1&#x27;})</pre><b>In a Jupyter environment, please rerun this cell to show the HTML representation or trust the notebook. <br />On GitHub, the HTML representation is unable to render, please try loading this page with nbviewer.org.</b></div><div class=\"sk-container\" hidden><div class=\"sk-item sk-dashed-wrapped\"><div class=\"sk-label-container\"><div class=\"sk-label sk-toggleable\"><input class=\"sk-toggleable__control sk-hidden--visually\" id=\"sk-estimator-id-4\" type=\"checkbox\" ><label for=\"sk-estimator-id-4\" class=\"sk-toggleable__label sk-toggleable__label-arrow\">GridSearchCV</label><div class=\"sk-toggleable__content\"><pre>GridSearchCV(cv=4, estimator=RandomForestClassifier(), n_jobs=-1,\n",
       "             param_grid={&#x27;max_depth&#x27;: [3, 5, None], &#x27;max_features&#x27;: [1.0],\n",
       "                         &#x27;max_samples&#x27;: [0.7, 1.0],\n",
       "                         &#x27;min_samples_leaf&#x27;: [1, 2, 3],\n",
       "                         &#x27;min_samples_split&#x27;: [2, 3, 4],\n",
       "                         &#x27;n_estimators&#x27;: [300, 500]},\n",
       "             refit=&#x27;roc_auc&#x27;,\n",
       "             scoring={&#x27;recall&#x27;, &#x27;roc_auc&#x27;, &#x27;accuracy&#x27;, &#x27;precision&#x27;, &#x27;f1&#x27;})</pre></div></div></div><div class=\"sk-parallel\"><div class=\"sk-parallel-item\"><div class=\"sk-item\"><div class=\"sk-label-container\"><div class=\"sk-label sk-toggleable\"><input class=\"sk-toggleable__control sk-hidden--visually\" id=\"sk-estimator-id-5\" type=\"checkbox\" ><label for=\"sk-estimator-id-5\" class=\"sk-toggleable__label sk-toggleable__label-arrow\">estimator: RandomForestClassifier</label><div class=\"sk-toggleable__content\"><pre>RandomForestClassifier()</pre></div></div></div><div class=\"sk-serial\"><div class=\"sk-item\"><div class=\"sk-estimator sk-toggleable\"><input class=\"sk-toggleable__control sk-hidden--visually\" id=\"sk-estimator-id-6\" type=\"checkbox\" ><label for=\"sk-estimator-id-6\" class=\"sk-toggleable__label sk-toggleable__label-arrow\">RandomForestClassifier</label><div class=\"sk-toggleable__content\"><pre>RandomForestClassifier()</pre></div></div></div></div></div></div></div></div></div></div>"
      ],
      "text/plain": [
       "GridSearchCV(cv=4, estimator=RandomForestClassifier(), n_jobs=-1,\n",
       "             param_grid={'max_depth': [3, 5, None], 'max_features': [1.0],\n",
       "                         'max_samples': [0.7, 1.0],\n",
       "                         'min_samples_leaf': [1, 2, 3],\n",
       "                         'min_samples_split': [2, 3, 4],\n",
       "                         'n_estimators': [300, 500]},\n",
       "             refit='roc_auc',\n",
       "             scoring={'recall', 'roc_auc', 'accuracy', 'precision', 'f1'})"
      ]
     },
     "execution_count": 63,
     "metadata": {},
     "output_type": "execute_result"
    }
   ],
   "source": [
    "%%time\n",
    "rf.fit(X_train, y_train)"
   ]
  },
  {
   "cell_type": "markdown",
   "id": "ab971bd7-3b23-4ce2-8efe-6724f533a937",
   "metadata": {},
   "source": [
    "Model's best parameters:"
   ]
  },
  {
   "cell_type": "code",
   "execution_count": 65,
   "id": "0f484f47-3902-47ae-9f90-302c7d18f516",
   "metadata": {
    "tags": []
   },
   "outputs": [
    {
     "data": {
      "text/plain": [
       "{'max_depth': None,\n",
       " 'max_features': 1.0,\n",
       " 'max_samples': 0.7,\n",
       " 'min_samples_leaf': 3,\n",
       " 'min_samples_split': 2,\n",
       " 'n_estimators': 500}"
      ]
     },
     "execution_count": 65,
     "metadata": {},
     "output_type": "execute_result"
    }
   ],
   "source": [
    "rf.best_params_"
   ]
  },
  {
   "cell_type": "code",
   "execution_count": 66,
   "id": "f8fec0df-0883-4fa9-b6ed-dbb2379c33a5",
   "metadata": {
    "tags": []
   },
   "outputs": [],
   "source": [
    "rf_res = make_results('random forest', rf, 'auc')"
   ]
  },
  {
   "cell_type": "code",
   "execution_count": 67,
   "id": "58546642-17b4-4914-9deb-bb501e5f0f4e",
   "metadata": {
    "tags": []
   },
   "outputs": [
    {
     "name": "stdout",
     "output_type": "stream",
     "text": [
      "           model  precision    recall        F1  accuracy       auc\n",
      "0  random forest   0.786756  0.792254  0.789381   0.81204  0.896657\n"
     ]
    }
   ],
   "source": [
    "print(rf_res)"
   ]
  },
  {
   "cell_type": "markdown",
   "id": "efee95b5-029d-42db-beba-bd86dab358c6",
   "metadata": {},
   "source": [
    "Random forest model showed the result slightly better than decision tree model and logistic regression model based on accuracy metric."
   ]
  },
  {
   "cell_type": "markdown",
   "id": "d1f3c885-5d73-4f8c-ad84-b1869dde5275",
   "metadata": {},
   "source": [
    "#### Model export"
   ]
  },
  {
   "cell_type": "markdown",
   "id": "4d76c089-0196-4440-a4ba-57a5f0b8a801",
   "metadata": {},
   "source": [
    "Lets export our random forest model to a project folder."
   ]
  },
  {
   "cell_type": "code",
   "execution_count": 71,
   "id": "1315ab96-8270-4060-b243-bda3bda27817",
   "metadata": {
    "tags": []
   },
   "outputs": [
    {
     "name": "stdout",
     "output_type": "stream",
     "text": [
      "C:\\Users\\Admin\\PROJECTS\\PRECIPITATION\n"
     ]
    }
   ],
   "source": [
    "import os\n",
    "print(os.getcwd())"
   ]
  },
  {
   "cell_type": "markdown",
   "id": "91413cfd-dfdf-4ef2-b502-0c6c3c171b60",
   "metadata": {},
   "source": [
    "Defining a path to folder:"
   ]
  },
  {
   "cell_type": "code",
   "execution_count": 73,
   "id": "0af5505f-dd15-4918-8475-8b53c0e9a299",
   "metadata": {
    "tags": []
   },
   "outputs": [],
   "source": [
    "path = 'C:/Users/Admin/PROJECTS/PRECIPITATION/'"
   ]
  },
  {
   "cell_type": "markdown",
   "id": "f09838d6-1122-4a20-9d26-20dd9c3281eb",
   "metadata": {},
   "source": [
    "We need to functions - to save our model into a folder, and to read it."
   ]
  },
  {
   "cell_type": "code",
   "execution_count": 75,
   "id": "c71500d0-7da9-4d17-a789-1233b3326f22",
   "metadata": {
    "tags": []
   },
   "outputs": [],
   "source": [
    "def write_pickle(path, model_object, save_as:str):\n",
    "    '''\n",
    "    In: \n",
    "        path:         path of folder where you want to save the pickle\n",
    "        model_object: a model you want to pickle\n",
    "        save_as:      filename for how you want to save the model\n",
    "\n",
    "    Out: A call to pickle the model in the folder indicated\n",
    "    '''    \n",
    "\n",
    "    with open(path + save_as + '.pickle', 'wb') as to_write:\n",
    "        pickle.dump(model_object, to_write)"
   ]
  },
  {
   "cell_type": "code",
   "execution_count": 76,
   "id": "2682b7eb-24b4-4668-9360-7015c1bd470e",
   "metadata": {
    "tags": []
   },
   "outputs": [],
   "source": [
    "def read_pickle(path, saved_model_name:str):\n",
    "    '''\n",
    "    In: \n",
    "        path:             path to folder where you want to read from\n",
    "        saved_model_name: filename of pickled model you want to read in\n",
    "\n",
    "    Out: \n",
    "        model: the pickled model \n",
    "    '''\n",
    "    with open(path + saved_model_name + '.pickle', 'rb') as to_read:\n",
    "        model = pickle.load(to_read)\n",
    "\n",
    "    return model"
   ]
  },
  {
   "cell_type": "markdown",
   "id": "ab9f2af5-bb0c-4ca7-ad49-ddc567d2f2b4",
   "metadata": {},
   "source": [
    "Lets save it"
   ]
  },
  {
   "cell_type": "code",
   "execution_count": 78,
   "id": "480caeef-3934-4b19-b175-565e09bd1a91",
   "metadata": {
    "tags": []
   },
   "outputs": [],
   "source": [
    "write_pickle(path, rf, 'random_forest')"
   ]
  }
 ],
 "metadata": {
  "kernelspec": {
   "display_name": "Python 3 (ipykernel)",
   "language": "python",
   "name": "python3"
  },
  "language_info": {
   "codemirror_mode": {
    "name": "ipython",
    "version": 3
   },
   "file_extension": ".py",
   "mimetype": "text/x-python",
   "name": "python",
   "nbconvert_exporter": "python",
   "pygments_lexer": "ipython3",
   "version": "3.11.7"
  }
 },
 "nbformat": 4,
 "nbformat_minor": 5
}
